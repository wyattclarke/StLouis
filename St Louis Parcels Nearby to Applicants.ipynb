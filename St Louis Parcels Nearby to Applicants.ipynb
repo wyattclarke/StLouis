{
 "cells": [
  {
   "cell_type": "markdown",
   "metadata": {},
   "source": [
    "# St Louis Parcels Nearby to Applicants\n",
    "\n",
    "List all parcels within 500 meters of each applicants' parcel(s)."
   ]
  },
  {
   "cell_type": "markdown",
   "metadata": {},
   "source": [
    "Import packages and set working directory."
   ]
  },
  {
   "cell_type": "code",
   "execution_count": 1,
   "metadata": {
    "collapsed": true
   },
   "outputs": [],
   "source": [
    "import pandas as pd\n",
    "import geopandas as gpd\n",
    "import numpy as np\n",
    "import os\n",
    "\n",
    "os.chdir(r'C:\\Users\\wyatt.clarke\\Documents\\Research\\StLouis\\StLouisAddressMatching_JupyterNotebook')"
   ]
  },
  {
   "cell_type": "markdown",
   "metadata": {},
   "source": [
    "Load output from \"St. Louis Address Matching\" and reshape the data from wide to long. (Some applications are associated with more than one parcel.)"
   ]
  },
  {
   "cell_type": "code",
   "execution_count": 2,
   "metadata": {
    "collapsed": true
   },
   "outputs": [],
   "source": [
    "# Load matches\n",
    "matched = pd.read_csv('final_handle_assignments.csv')\n",
    "# Reshape wide to long, putting all applicant parcels in a single column\n",
    "matched_long = pd.melt(matched, id_vars=['authorized', 'best_addr1', 'best_zip', 'issued', 'owner', 'refnum', 'result', 'year', 'match_type'], value_vars=['HANDLE_M1', 'HANDLE_M2', 'HANDLE_M3', 'HANDLE_M4'])\n",
    "# Drop rows with no parcel (created when applications have less than 4 parcels)\n",
    "matched_long = matched_long[matched_long['value'].notnull()]"
   ]
  },
  {
   "cell_type": "markdown",
   "metadata": {},
   "source": [
    "Cut down to an unduplicated number of applicant parcels, for which to find nearby parcels"
   ]
  },
  {
   "cell_type": "code",
   "execution_count": 3,
   "metadata": {
    "collapsed": true
   },
   "outputs": [],
   "source": [
    "uniq_applicant_parcels = matched_long[['value']].drop_duplicates()\n",
    "uniq_applicant_parcels = uniq_applicant_parcels.rename(columns={'value': 'HANDLE'})"
   ]
  },
  {
   "cell_type": "markdown",
   "metadata": {},
   "source": [
    "Load the shapefile of St. Louis parcels, from the Assessor's website. Cut it down to the subset of unique applicant parcels, by merging. Save as a new shapefile."
   ]
  },
  {
   "cell_type": "code",
   "execution_count": 4,
   "metadata": {
    "collapsed": true
   },
   "outputs": [],
   "source": [
    "prcl = gpd.read_file('shapefiles\\\\prcl.shp')\n",
    "prcl['HANDLE'] = prcl['HANDLE'].astype(np.float64)\n",
    "prcl_applicants = prcl.merge(uniq_applicant_parcels, left_on='HANDLE', right_on='HANDLE', how='inner')\n",
    "\n",
    "prcl_applicants.to_file('shapefiles\\\\prcl_applicants.shp')"
   ]
  },
  {
   "cell_type": "markdown",
   "metadata": {},
   "source": [
    "**The next cell requires an ArcPy environment.** Either import ARCPY in an ArcGIS-compatible installation of Python or (easier) paste into the Python window of ArcGIS.\n",
    "\n",
    "Load the two shapefiles with (A) applicants' parcels and (B) all of St. Louis. Find all parcels in B that are within 500 meters of each parcel in A.\n",
    "\n",
    "Note that this takes a while, so only re-run if necessary."
   ]
  },
  {
   "cell_type": "code",
   "execution_count": null,
   "metadata": {
    "collapsed": true
   },
   "outputs": [],
   "source": [
    "# Set ArcPy environment settings\n",
    "arcpy.env.workspace = r'C:\\Users\\wyatt.clarke\\Documents\\ArcGIS\\Projects\\StLouis\\StLouis.gdb'\n",
    "arcpy.env.overwriteOutput = True\n",
    "\n",
    "# Load shapefiles\n",
    "    #CopyFeatures_management (in_features, out_feature_class, {config_keyword}, {spatial_grid_1}, {spatial_grid_2}, {spatial_grid_3})\n",
    "arcpy.management.CopyFeatures(r'C:\\Users\\wyatt.clarke\\Documents\\Research\\StLouis\\StLouisAddressMatching_JupyterNotebook\\shapefiles\\prcl_applicants.shp', 'prcl_applicants', None, None, None, None)\n",
    "arcpy.management.CopyFeatures(r'C:\\Users\\wyatt.clarke\\Documents\\Research\\StLouis\\StLouisAddressMatching_JupyterNotebook\\shapefiles\\prcl.shp', 'prcl', None, None, None, None)\n",
    "# Find nearby parcels\n",
    "    #GenerateNearTable_analysis (in_features, near_features, out_table, {search_radius}, {location}, {angle}, {closest}, {closest_count}, {method})\n",
    "arcpy.analysis.GenerateNearTable(\"prcl_applicants\", \"prcl\", r\"C:\\Users\\wyatt.clarke\\Documents\\ArcGIS\\Projects\\StLouis\\StLouis.gdb\\prcl_applicants_nearTable\", \"500 Meters\", \"NO_LOCATION\", \"NO_ANGLE\", \"ALL\", 10000, \"PLANAR\")\n",
    "\n",
    "# Export to a text file. This only includes ArcGIS index numbers for the parcels, not their handles.\n",
    "arcpy.management.CopyRows(r\"C:\\Users\\wyatt.clarke\\Documents\\ArcGIS\\Projects\\StLouis\\StLouis.gdb\\prcl_applicants_nearTable\", r\"C:\\Users\\wyatt.clarke\\Documents\\Research\\StLouis\\StLouisAddressMatching_JupyterNotebook\\nearTable1.txt\", None)"
   ]
  },
  {
   "cell_type": "markdown",
   "metadata": {},
   "source": [
    "Import the ArcGIS output back to a Pandas dataframe and clean it up. "
   ]
  },
  {
   "cell_type": "code",
   "execution_count": 5,
   "metadata": {
    "collapsed": true
   },
   "outputs": [],
   "source": [
    "#Load\n",
    "nearTable = pd.read_csv('nearTable1.txt')\n",
    "# ArcGIS indices start from 1. Adjust them to match Python's indices.\n",
    "nearTable['IN_FID'] = nearTable['IN_FID']-1\n",
    "nearTable['NEAR_FID'] = nearTable['NEAR_FID']-1\n",
    "\n",
    "# prcl is the (geo)dataframe for all of St Louis. Rename the dataframe and column name.\n",
    "prcls_near = prcl[['HANDLE']]\n",
    "prcls_near['HANDLE_NEAR'] = prcls_near['HANDLE']\n",
    "\n",
    "# Merge the parcel handles onto the parcel indices outputted by ArcGIS\n",
    "nearTable = nearTable.merge(prcl_applicants[['HANDLE']],left_on='IN_FID', right_index=True, how='left')\n",
    "nearTable = nearTable.merge(prcls_near[['HANDLE_NEAR']],left_on='NEAR_FID', right_index=True, how='left')\n",
    "\n",
    "# Convert the distance measure from feet to meters\n",
    "nearTable['NEAR_DIST_METERS'] = nearTable['NEAR_DIST'] * 0.3048\n",
    "# Cut to relevant columns\n",
    "nearTable = nearTable[['NEAR_DIST_METERS', 'NEAR_RANK', 'HANDLE', 'HANDLE_NEAR']]"
   ]
  },
  {
   "cell_type": "markdown",
   "metadata": {},
   "source": [
    "Merge to the \"long\" list of applications, which includes duplicate parcels and has all parcel number in one column. \n",
    "\n",
    "Keep only one distance per application and nearby parcel. Pick the shortest one. (ie, If one application is associated with two parcels, there are two distances from that application to each nearby parcel.)"
   ]
  },
  {
   "cell_type": "code",
   "execution_count": 6,
   "metadata": {
    "collapsed": true
   },
   "outputs": [],
   "source": [
    "#Merge\n",
    "matched_long = matched_long.merge(nearTable, left_on='value', right_on='HANDLE', how='left')\n",
    "# Sort to put shortest distance first\n",
    "matched_long = matched_long.sort_values(['refnum', 'result', 'NEAR_DIST_METERS'], axis=0)\n",
    "# Keep one distance for each application (['refnum', 'result'] form a joint unique ID)\n",
    "matched_long = matched_long.drop_duplicates(['refnum', 'result', 'HANDLE_NEAR'])\n",
    "# Cut to relevant columns\n",
    "matched_long = matched_long[['refnum', 'result', 'NEAR_RANK', 'HANDLE_NEAR', 'NEAR_DIST_METERS']]"
   ]
  },
  {
   "cell_type": "markdown",
   "metadata": {},
   "source": [
    "This currently includes distance from applicant parcels to themselves. Merge to the original (wide) list of applicant parcels and eliminate distance from applications' parcels to themselves."
   ]
  },
  {
   "cell_type": "code",
   "execution_count": 7,
   "metadata": {
    "collapsed": true
   },
   "outputs": [],
   "source": [
    "matched_long = matched_long.merge(matched, left_on=['refnum', 'result'], right_on=['refnum', 'result'], how='left')\n",
    "\n",
    "matched_long = matched_long[matched_long['HANDLE_NEAR']!=matched_long['HANDLE_M1']]\n",
    "matched_long = matched_long[matched_long['HANDLE_NEAR']!=matched_long['HANDLE_M2']]\n",
    "matched_long = matched_long[matched_long['HANDLE_NEAR']!=matched_long['HANDLE_M3']]\n",
    "matched_long = matched_long[matched_long['HANDLE_NEAR']!=matched_long['HANDLE_M4']]\n",
    "\n",
    "# Cut to relevant columns\n",
    "matched_long = matched_long[['refnum', 'result', 'NEAR_RANK', 'HANDLE_NEAR', 'NEAR_DIST_METERS']]"
   ]
  },
  {
   "cell_type": "markdown",
   "metadata": {},
   "source": [
    "Export to CSV."
   ]
  },
  {
   "cell_type": "code",
   "execution_count": null,
   "metadata": {
    "collapsed": true
   },
   "outputs": [],
   "source": [
    "matched_long.to_csv('nearby_parcels.csv', index=False)"
   ]
  },
  {
   "cell_type": "markdown",
   "metadata": {},
   "source": [
    "**Demonstrate results:** Nearby parcels for the application with Refnum=1 and result=Denied, spreadsheet and map.\n",
    "<img src=\"NearbyParcelsRefnum1Denied_spreadsheet.PNG\">\n",
    "<img src=\"NearbyParcelsRefnum1Denied.PNG\">"
   ]
  }
 ],
 "metadata": {
  "kernelspec": {
   "display_name": "Python 3",
   "language": "python",
   "name": "python3"
  },
  "language_info": {
   "codemirror_mode": {
    "name": "ipython",
    "version": 3
   },
   "file_extension": ".py",
   "mimetype": "text/x-python",
   "name": "python",
   "nbconvert_exporter": "python",
   "pygments_lexer": "ipython3",
   "version": "3.6.1"
  }
 },
 "nbformat": 4,
 "nbformat_minor": 2
}
